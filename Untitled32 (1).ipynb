{
  "nbformat": 4,
  "nbformat_minor": 0,
  "metadata": {
    "colab": {
      "provenance": []
    },
    "kernelspec": {
      "name": "python3",
      "display_name": "Python 3"
    },
    "language_info": {
      "name": "python"
    }
  },
  "cells": [
    {
      "cell_type": "code",
      "source": [
        "import numpy as np\n",
        "\n",
        "def sigmoid_activation(value):\n",
        "    return 1 / (1 + np.exp(-value))\n",
        "\n",
        "def tanh_activation(value):\n",
        "    return np.tanh(value)\n",
        "\n",
        "# Define weight and bias parameters with a new variation\n",
        "weights = {\n",
        "    \"Wf\": 0.51, \"Wi\": 0.46, \"Wo\": 0.54, \"Wc\": 0.62,\n",
        "    \"Uf\": 0.37, \"Ui\": 0.32, \"Uo\": 0.48, \"Uc\": 0.41\n",
        "}\n",
        "biases = {\"bf\": 0.09, \"bi\": 0.14, \"bo\": 0.06, \"bc\": 0.19}\n",
        "\n",
        "# Initialize LSTM cell state and hidden state\n",
        "cell_state, hidden_state = 0, 0\n",
        "\n",
        "# Input sequence for processing\n",
        "input_sequence = [1, 2, 3, 4]\n",
        "\n",
        "# Process the sequence through LSTM steps\n",
        "for idx, input_val in enumerate(input_sequence, start=1):\n",
        "    forget_gate = sigmoid_activation(weights[\"Wf\"] * input_val + weights[\"Uf\"] * hidden_state + biases[\"bf\"])\n",
        "    input_gate = sigmoid_activation(weights[\"Wi\"] * input_val + weights[\"Ui\"] * hidden_state + biases[\"bi\"])\n",
        "    candidate_value = tanh_activation(weights[\"Wc\"] * input_val + weights[\"Uc\"] * hidden_state + biases[\"bc\"])\n",
        "    cell_state = forget_gate * cell_state + input_gate * candidate_value\n",
        "    output_gate = sigmoid_activation(weights[\"Wo\"] * input_val + weights[\"Uo\"] * hidden_state + biases[\"bo\"])\n",
        "    hidden_state = output_gate * tanh_activation(cell_state)\n",
        "    print(f\"Step {idx}: Hidden State = {hidden_state}, Cell State = {cell_state}\")\n",
        "\n",
        "# Applying final transformation\n",
        "output_weight, output_bias = 0.74, 0.27\n",
        "y_final = output_weight * hidden_state + output_bias\n",
        "print(f\"Final Prediction Output: {y_final}\")"
      ],
      "metadata": {
        "colab": {
          "base_uri": "https://localhost:8080/"
        },
        "id": "iCHmR2jdqTIU",
        "outputId": "74d9f777-73d3-4ae2-f8af-dd7428f5e307"
      },
      "execution_count": 2,
      "outputs": [
        {
          "output_type": "stream",
          "name": "stdout",
          "text": [
            "Step 1: Hidden State = 0.2629517029657569, Cell State = 0.43232517371022694\n",
            "Step 2: Hidden State = 0.6019370047792693, Cell State = 1.0243210610967919\n",
            "Step 3: Hidden State = 0.8223840148131022, Cell State = 1.7144718804408599\n",
            "Step 4: Hidden State = 0.9187212105458514, Cell State = 2.4759449145428656\n",
            "Final Prediction Output: 0.9498536958039301\n"
          ]
        }
      ]
    }
  ]
}