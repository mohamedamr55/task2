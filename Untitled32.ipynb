{
  "nbformat": 4,
  "nbformat_minor": 0,
  "metadata": {
    "colab": {
      "provenance": []
    },
    "kernelspec": {
      "name": "python3",
      "display_name": "Python 3"
    },
    "language_info": {
      "name": "python"
    }
  },
  "cells": [
    {
      "cell_type": "code",
      "execution_count": 1,
      "metadata": {
        "colab": {
          "base_uri": "https://localhost:8080/"
        },
        "id": "Sit7X0aTnXkq",
        "outputId": "6412e0fc-cafa-4dc9-fc32-c30669dee5b7"
      },
      "outputs": [
        {
          "output_type": "stream",
          "name": "stdout",
          "text": [
            "Time Step 1: h_t = [0.26101778], c_t = [0.42873953]\n",
            "Time Step 2: h_t = [0.60132091], c_t = [1.0164716]\n",
            "Time Step 3: h_t = [0.82453601], c_t = [1.7051611]\n",
            "Time Step 4: h_t = [0.92136822], c_t = [2.46568826]\n",
            "Final Prediction: [0.94495775]\n"
          ]
        }
      ],
      "source": [
        "import numpy as np\n",
        "\n",
        "def sigmoid(x):\n",
        "    return 1 / (1 + np.exp(-x))\n",
        "\n",
        "def tanh(x):\n",
        "    return np.tanh(x)\n",
        "\n",
        "# Initialize weights and biases (arbitrarily chosen as per the example)\n",
        "Wf, Wi, Wo, Wc = np.array([0.5]), np.array([0.45]), np.array([0.55]), np.array([0.6])\n",
        "Uf, Ui, Uo, Uc = np.array([0.4]), np.array([0.35]), np.array([0.5]), np.array([0.4])\n",
        "bf, bi, bo, bc = np.array([0.1]), np.array([0.15]), np.array([0.05]), np.array([0.2])\n",
        "\n",
        "# Initialize cell state and hidden state\n",
        "c_t, h_t = 0, 0\n",
        "\n",
        "# Input sequence\n",
        "inputs = [1, 2, 3, 4]\n",
        "\n",
        "# LSTM forward pass\n",
        "for x_t in inputs:\n",
        "    forget_gate = sigmoid(Wf * x_t + Uf * h_t + bf)\n",
        "    input_gate = sigmoid(Wi * x_t + Ui * h_t + bi)\n",
        "    candidate = tanh(Wc * x_t + Uc * h_t + bc)\n",
        "    c_t = forget_gate * c_t + input_gate * candidate\n",
        "    output_gate = sigmoid(Wo * x_t + Uo * h_t + bo)\n",
        "    h_t = output_gate * tanh(c_t)\n",
        "    print(f\"Time Step {x_t}: h_t = {h_t}, c_t = {c_t}\")\n",
        "\n",
        "# Output mapping\n",
        "Wy = np.array([0.7])\n",
        "by = np.array([0.3])\n",
        "\n",
        "y_pred = Wy * h_t + by\n",
        "print(f\"Final Prediction: {y_pred}\")\n"
      ]
    }
  ]
}